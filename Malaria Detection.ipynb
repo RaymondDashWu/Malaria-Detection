{
 "cells": [
  {
   "cell_type": "code",
   "execution_count": null,
   "metadata": {},
   "outputs": [],
   "source": [
    "# Dataset taken from https://www.kaggle.com/iarunava/cell-images-for-detecting-malaria"
   ]
  },
  {
   "cell_type": "code",
   "execution_count": 1,
   "metadata": {
    "ExecuteTime": {
     "end_time": "2019-05-22T22:48:14.289868Z",
     "start_time": "2019-05-22T22:48:13.184376Z"
    }
   },
   "outputs": [],
   "source": [
    "%reload_ext autoreload\n",
    "%autoreload 2\n",
    "%matplotlib inline"
   ]
  },
  {
   "cell_type": "code",
   "execution_count": 49,
   "metadata": {
    "ExecuteTime": {
     "end_time": "2019-05-22T23:19:01.646960Z",
     "start_time": "2019-05-22T23:19:01.610467Z"
    }
   },
   "outputs": [],
   "source": [
    "from fastai import *\n",
    "from fastai.vision import *\n",
    "from fastai.callbacks.hooks import *\n",
    "from fastai.metrics import error_rate\n",
    "import numpy as np"
   ]
  },
  {
   "cell_type": "code",
   "execution_count": 5,
   "metadata": {
    "ExecuteTime": {
     "end_time": "2019-05-22T22:53:32.851783Z",
     "start_time": "2019-05-22T22:53:32.813427Z"
    }
   },
   "outputs": [
    {
     "data": {
      "text/plain": [
       "PosixPath('dataset/cell_images')"
      ]
     },
     "execution_count": 5,
     "metadata": {},
     "output_type": "execute_result"
    }
   ],
   "source": [
    "path = Path('dataset/cell_images'); path"
   ]
  },
  {
   "cell_type": "code",
   "execution_count": 31,
   "metadata": {
    "ExecuteTime": {
     "end_time": "2019-05-22T23:08:55.960345Z",
     "start_time": "2019-05-22T23:08:55.919718Z"
    }
   },
   "outputs": [
    {
     "data": {
      "text/plain": [
       "[PosixPath('dataset/cell_images/.DS_Store'),\n",
       " PosixPath('dataset/cell_images/Parasitized'),\n",
       " PosixPath('dataset/cell_images/Uninfected')]"
      ]
     },
     "execution_count": 31,
     "metadata": {},
     "output_type": "execute_result"
    }
   ],
   "source": [
    "path.ls()"
   ]
  },
  {
   "cell_type": "markdown",
   "metadata": {},
   "source": [
    "# Data Exploration"
   ]
  },
  {
   "cell_type": "code",
   "execution_count": 74,
   "metadata": {
    "ExecuteTime": {
     "end_time": "2019-05-22T23:39:26.423897Z",
     "start_time": "2019-05-22T23:39:26.387684Z"
    }
   },
   "outputs": [],
   "source": [
    "import os"
   ]
  },
  {
   "cell_type": "code",
   "execution_count": 50,
   "metadata": {
    "ExecuteTime": {
     "end_time": "2019-05-22T23:19:29.348993Z",
     "start_time": "2019-05-22T23:19:29.318714Z"
    }
   },
   "outputs": [],
   "source": [
    "np.random.seed(42)"
   ]
  },
  {
   "cell_type": "code",
   "execution_count": 44,
   "metadata": {
    "ExecuteTime": {
     "end_time": "2019-05-22T23:17:46.824066Z",
     "start_time": "2019-05-22T23:17:46.788421Z"
    }
   },
   "outputs": [],
   "source": [
    "path_image_parasitized = Path('dataset/cell_images/Parasitized/')\n",
    "path_image_uninfected = Path('dataset/cell_images/Uninfected/')"
   ]
  },
  {
   "cell_type": "code",
   "execution_count": 72,
   "metadata": {
    "ExecuteTime": {
     "end_time": "2019-05-22T23:34:16.644119Z",
     "start_time": "2019-05-22T23:34:16.521888Z"
    },
    "scrolled": false
   },
   "outputs": [
    {
     "data": {
      "text/plain": [
       "[PosixPath('dataset/cell_images/Parasitized/C118P79ThinF_IMG_20151002_105018_cell_150.png'),\n",
       " PosixPath('dataset/cell_images/Parasitized/C189P150ThinF_IMG_20151203_142224_cell_84.png'),\n",
       " PosixPath('dataset/cell_images/Parasitized/C91P52ThinF_IMG_20150821_123116_cell_189.png'),\n",
       " PosixPath('dataset/cell_images/Parasitized/C84P45ThinF_IMG_20150818_101226_cell_98.png'),\n",
       " PosixPath('dataset/cell_images/Parasitized/C144P105ThinF_IMG_20151015_163432_cell_310.png'),\n",
       " PosixPath('dataset/cell_images/Parasitized/C136P97ThinF_IMG_20151005_141803_cell_131.png'),\n",
       " PosixPath('dataset/cell_images/Parasitized/C65P26N_ThinF_IMG_20150818_154050_cell_177.png'),\n",
       " PosixPath('dataset/cell_images/Parasitized/C60P21thinF_IMG_20150804_105034_cell_105.png'),\n",
       " PosixPath('dataset/cell_images/Parasitized/C109P70ThinF_IMG_20150930_103811_cell_159.png'),\n",
       " PosixPath('dataset/cell_images/Parasitized/C176P137NThinF_IMG_20151201_122708_cell_126.png')]"
      ]
     },
     "execution_count": 72,
     "metadata": {},
     "output_type": "execute_result"
    }
   ],
   "source": [
    "parasitized_images = get_image_files(path_image_parasitized)[:10]\n",
    "parasitized_images"
   ]
  },
  {
   "cell_type": "code",
   "execution_count": 79,
   "metadata": {
    "ExecuteTime": {
     "end_time": "2019-05-22T23:41:04.309365Z",
     "start_time": "2019-05-22T23:41:04.243621Z"
    }
   },
   "outputs": [
    {
     "name": "stdout",
     "output_type": "stream",
     "text": [
      "Number of images for parasitized: 13780\n"
     ]
    }
   ],
   "source": [
    "path, dirs, files = next(os.walk(path_image_parasitized))\n",
    "file_count = len(files)\n",
    "print(\"Number of images for parasitized:\", file_count)"
   ]
  },
  {
   "cell_type": "code",
   "execution_count": 70,
   "metadata": {
    "ExecuteTime": {
     "end_time": "2019-05-22T23:32:12.885761Z",
     "start_time": "2019-05-22T23:32:12.747500Z"
    }
   },
   "outputs": [
    {
     "data": {
      "text/plain": [
       "torch.Size([106, 136])"
      ]
     },
     "execution_count": 70,
     "metadata": {},
     "output_type": "execute_result"
    },
    {
     "data": {
      "image/png": "[encoded data removed]",
      "text/plain": [
       "<Figure size 360x360 with 1 Axes>"
      ]
     },
     "metadata": {},
     "output_type": "display_data"
    }
   ],
   "source": [
    "images_para = open_image(parasitized_images[np.random.randint(0, 9)])\n",
    "images_para.show(figsize=(5,5))\n",
    "images_para.size"
   ]
  },
  {
   "cell_type": "code",
   "execution_count": 61,
   "metadata": {
    "ExecuteTime": {
     "end_time": "2019-05-22T23:28:19.401221Z",
     "start_time": "2019-05-22T23:28:19.278621Z"
    }
   },
   "outputs": [
    {
     "data": {
      "text/plain": [
       "[PosixPath('dataset/cell_images/Uninfected/C13NThinF_IMG_20150614_131318_cell_179.png'),\n",
       " PosixPath('dataset/cell_images/Uninfected/C205ThinF_IMG_20151106_152003_cell_21.png'),\n",
       " PosixPath('dataset/cell_images/Uninfected/C230ThinF_IMG_20151112_150647_cell_1.png'),\n",
       " PosixPath('dataset/cell_images/Uninfected/C134P95ThinF_IMG_20151005_121834_cell_65.png'),\n",
       " PosixPath('dataset/cell_images/Uninfected/C141P102ThinF_IMG_20151005_214836_cell_132.png'),\n",
       " PosixPath('dataset/cell_images/Uninfected/C167P128ReThinF_IMG_20151201_105559_cell_61.png'),\n",
       " PosixPath('dataset/cell_images/Uninfected/C218ThinF_IMG_20151106_144337_cell_57.png'),\n",
       " PosixPath('dataset/cell_images/Uninfected/C182P143NThinF_IMG_20151201_171950_cell_93.png'),\n",
       " PosixPath('dataset/cell_images/Uninfected/C181P142ThinF_IMG_20151127_160616_cell_54.png'),\n",
       " PosixPath('dataset/cell_images/Uninfected/C142P103ThinF_IMG_20151005_223257_cell_18.png')]"
      ]
     },
     "execution_count": 61,
     "metadata": {},
     "output_type": "execute_result"
    }
   ],
   "source": [
    "uninfected_images = get_image_files(path_image_uninfected)[:10]\n",
    "uninfected_images"
   ]
  },
  {
   "cell_type": "code",
   "execution_count": 80,
   "metadata": {
    "ExecuteTime": {
     "end_time": "2019-05-22T23:41:16.558560Z",
     "start_time": "2019-05-22T23:41:16.495489Z"
    }
   },
   "outputs": [
    {
     "name": "stdout",
     "output_type": "stream",
     "text": [
      "Number of images for uninfected: 13780\n"
     ]
    }
   ],
   "source": [
    "path, dirs, files = next(os.walk(path_image_uninfected))\n",
    "file_count = len(files)\n",
    "print(\"Number of images for uninfected:\", file_count)"
   ]
  },
  {
   "cell_type": "code",
   "execution_count": 67,
   "metadata": {
    "ExecuteTime": {
     "end_time": "2019-05-22T23:31:59.522529Z",
     "start_time": "2019-05-22T23:31:59.385063Z"
    }
   },
   "outputs": [
    {
     "data": {
      "text/plain": [
       "torch.Size([109, 121])"
      ]
     },
     "execution_count": 67,
     "metadata": {},
     "output_type": "execute_result"
    },
    {
     "data": {
      "image/png": "[encoded data removed]",
      "text/plain": [
       "<Figure size 360x360 with 1 Axes>"
      ]
     },
     "metadata": {},
     "output_type": "display_data"
    }
   ],
   "source": [
    "images_unin = open_image(uninfected_images[np.random.randint(0, 9)])\n",
    "images_unin.show(figsize=(5,5))\n",
    "images_unin.size"
   ]
  },
  {
   "cell_type": "markdown",
   "metadata": {},
   "source": [
    "## Observations: \n",
    "- Data is evenly balanced in number of images for uninfected and infected\n",
    "- Images aren't evenly sized.\n",
    "- I assume purple cells are white blood cells and peach are red blood cells\n",
    "- Not positive on what ThinF means. I assume it means thin slices of cells\n",
    "- Unsure what the various versions of ReThinF, NThinF, ThinF, thinF, etc. denotes in the images\n"
   ]
  },
  {
   "cell_type": "code",
   "execution_count": null,
   "metadata": {},
   "outputs": [],
   "source": []
  }
 ],
 "metadata": {
  "kernelspec": {
   "display_name": "Python 3",
   "language": "python",
   "name": "python3"
  },
  "language_info": {
   "codemirror_mode": {
    "name": "ipython",
    "version": 3
   },
   "file_extension": ".py",
   "mimetype": "text/x-python",
   "name": "python",
   "nbconvert_exporter": "python",
   "pygments_lexer": "ipython3",
   "version": "3.6.8"
  },
  "latex_envs": {
   "LaTeX_envs_menu_present": true,
   "autoclose": false,
   "autocomplete": true,
   "bibliofile": "biblio.bib",
   "cite_by": "apalike",
   "current_citInitial": 1,
   "eqLabelWithNumbers": true,
   "eqNumInitial": 1,
   "hotkeys": {
    "equation": "Ctrl-E",
    "itemize": "Ctrl-I"
   },
   "labels_anchors": false,
   "latex_user_defs": false,
   "report_style_numbering": false,
   "user_envs_cfg": false
  },
  "toc": {
   "base_numbering": 1,
   "nav_menu": {},
   "number_sections": true,
   "sideBar": true,
   "skip_h1_title": false,
   "title_cell": "Table of Contents",
   "title_sidebar": "Contents",
   "toc_cell": false,
   "toc_position": {},
   "toc_section_display": true,
   "toc_window_display": false
  }
 },
 "nbformat": 4,
 "nbformat_minor": 2
}
